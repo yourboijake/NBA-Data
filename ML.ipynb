{
 "cells": [
  {
   "cell_type": "code",
   "execution_count": 17,
   "metadata": {},
   "outputs": [],
   "source": [
    "import pandas as pd\n",
    "import matplotlib.pyplot as plt\n",
    "import numpy as np\n",
    "from sklearn.linear_model import LogisticRegression\n",
    "from sklearn.neural_network import MLPClassifier\n",
    "from xgboost import XGBClassifier\n",
    "from sklearn.model_selection import train_test_split\n",
    "from sklearn.feature_selection import SelectKBest\n",
    "from sklearn.metrics import brier_score_loss"
   ]
  },
  {
   "cell_type": "code",
   "execution_count": 9,
   "metadata": {},
   "outputs": [],
   "source": [
    "df = pd.read_csv('team_data_rolling_5yr.csv')\n",
    "#df = pd.read_csv('team_data_rolling_10yr.csv')\n",
    "df['GAME_DATE_home'] = pd.to_datetime(df['GAME_DATE_home'])\n",
    "#df = df.loc[df['GAME_DATE_home'] > '2015-01-01']"
   ]
  },
  {
   "cell_type": "code",
   "execution_count": 10,
   "metadata": {},
   "outputs": [
    {
     "data": {
      "text/plain": [
       "Index(['TEAM_home', 'TEAM_away', 'MATCHUP_home', 'MATCHUP_outcome',\n",
       "       'GAME_DATE_home', 'W/L_binary_5_home', 'MIN_rolling_5_home',\n",
       "       'PTS_rolling_5_home', 'FGM_rolling_5_home', 'FGA_rolling_5_home',\n",
       "       ...\n",
       "       'PYTHAG_rolling_5_away_sq', 'PYTHAG_rolling_5_away_sqrt',\n",
       "       'FTDIFF_rolling_5_away_sq', 'FTDIFF_rolling_5_away_sqrt',\n",
       "       'AST/TO_rolling_5_away_sq', 'AST/TO_rolling_5_away_sqrt',\n",
       "       'AST/FGM_rolling_5_away_sq', 'AST/FGM_rolling_5_away_sqrt',\n",
       "       'TOV%_rolling_5_away_sq', 'TOV%_rolling_5_away_sqrt'],\n",
       "      dtype='object', length=211)"
      ]
     },
     "execution_count": 10,
     "metadata": {},
     "output_type": "execute_result"
    }
   ],
   "source": [
    "df.columns"
   ]
  },
  {
   "cell_type": "code",
   "execution_count": 11,
   "metadata": {},
   "outputs": [
    {
     "data": {
      "text/plain": [
       "0.6250961823024563"
      ]
     },
     "execution_count": 11,
     "metadata": {},
     "output_type": "execute_result"
    }
   ],
   "source": [
    "window='5'\n",
    "X = df[[f'W/L_binary_{window}_home', f'W/L_binary_{window}_away', f'PTS_rolling_{window}_home', f'PTS_rolling_{window}_away']]\n",
    "y = df['MATCHUP_outcome']\n",
    "Xbig = df.drop(columns=['TEAM_home', 'TEAM_away', 'MATCHUP_home', \n",
    "                'MATCHUP_outcome', 'GAME_DATE_home'])\n",
    "\n",
    "Xbig_train, Xbig_test, y_train, y_test = train_test_split(Xbig, y)\n",
    "\n",
    "mod = LogisticRegression().fit(X, y)\n",
    "mod.score(X, y)"
   ]
  },
  {
   "cell_type": "code",
   "execution_count": 32,
   "metadata": {
    "scrolled": false
   },
   "outputs": [
    {
     "name": "stderr",
     "output_type": "stream",
     "text": [
      "C:\\Users\\jacob\\anaconda3\\lib\\site-packages\\xgboost\\sklearn.py:1224: UserWarning: The use of label encoder in XGBClassifier is deprecated and will be removed in a future release. To remove this warning, do the following: 1) Pass option use_label_encoder=False when constructing XGBClassifier object; and 2) Encode your labels (y) as integers starting with 0, i.e. 0, 1, 2, ..., [num_class - 1].\n",
      "  warnings.warn(label_encoder_deprecation_msg, UserWarning)\n"
     ]
    },
    {
     "name": "stdout",
     "output_type": "stream",
     "text": [
      "[21:38:52] WARNING: C:/Users/Administrator/workspace/xgboost-win64_release_1.5.1/src/learner.cc:1115: Starting in XGBoost 1.3.0, the default evaluation metric used with the objective 'binary:logistic' was changed from 'error' to 'logloss'. Explicitly set eval_metric if you'd like to restore the old behavior.\n",
      "1.0\n",
      "1.0\n"
     ]
    }
   ],
   "source": [
    "xgb = XGBClassifier().fit(Xbig_train, y_train)\n",
    "print(xgb.score(Xbig_train, y_train))\n",
    "print(xgb.score(Xbig_test, y_test))"
   ]
  },
  {
   "cell_type": "code",
   "execution_count": 13,
   "metadata": {},
   "outputs": [
    {
     "name": "stdout",
     "output_type": "stream",
     "text": [
      "0.6470681082787467\n",
      "0.6387310606060606\n"
     ]
    }
   ],
   "source": [
    "nn = MLPClassifier((50, 50, 50, 50)).fit(Xbig_train, y_train)\n",
    "\n",
    "print(nn.score(Xbig_train, y_train))\n",
    "print(nn.score(Xbig_test, y_test))"
   ]
  },
  {
   "cell_type": "code",
   "execution_count": 35,
   "metadata": {},
   "outputs": [
    {
     "name": "stdout",
     "output_type": "stream",
     "text": [
      "nnet brier score\n",
      "0.31356390662582995\n",
      "xgb brier score\n",
      "0.5874506843961691\n"
     ]
    }
   ],
   "source": [
    "print('nnet brier score')\n",
    "print(brier_score_loss(y_test, np.max(nn.predict_proba(Xbig_test), axis=1)))\n",
    "print('xgb brier score')\n",
    "print(brier_score_loss(y_test, np.max(xgb.predict_proba(Xbig_test), axis=1)))"
   ]
  },
  {
   "cell_type": "code",
   "execution_count": 73,
   "metadata": {},
   "outputs": [
    {
     "name": "stdout",
     "output_type": "stream",
     "text": [
      "[0, 0, 0, 0, 339, 563, 452, 160, 12, 0] [0, 0, 0, 0, 894, 1174, 1378, 679, 98, 1]\n"
     ]
    }
   ],
   "source": [
    "#obtain data to make brier score chart\n",
    "briers, sizes = [0 for i in range(10)], [0 for i in range(10)]\n",
    "probs = nn.predict_proba(Xbig_test)[:, 0]\n",
    "trues = y_test.values\n",
    "for i in range(len(preds)):\n",
    "    if probs[i] < 0.1:\n",
    "        j = 0\n",
    "    elif probs[i] < 0.2:\n",
    "        j = 1\n",
    "    elif probs[i] < 0.3:\n",
    "        j = 2\n",
    "    elif probs[i] < 0.4:\n",
    "        j = 3\n",
    "    elif probs[i] < 0.5:\n",
    "        j = 4\n",
    "    elif probs[i] < 0.6:\n",
    "        j = 5\n",
    "    elif probs[i] < 0.7:\n",
    "        j = 6\n",
    "    elif probs[i] < 0.8:\n",
    "        j = 7\n",
    "    elif probs[i] < 0.9:\n",
    "        j = 8\n",
    "    else:\n",
    "        j = 9\n",
    "    \n",
    "    sizes[j] += 1\n",
    "    if probs[i] < 0.5 and trues[i] == 0:\n",
    "        briers[j] += 1\n",
    "    elif probs[i] >= 0.5 and trues[i] == 1:\n",
    "        briers[j] += 1\n",
    "    \n",
    "print(briers, sizes)\n",
    "briers = [briers[i]/max(1, sizes[i]) for i in range(len(briers))]\n",
    "xs = [0, 1, 2, 3, 4, 5, 6, 7, 8, 9]"
   ]
  },
  {
   "cell_type": "code",
   "execution_count": 74,
   "metadata": {},
   "outputs": [
    {
     "data": {
      "text/plain": [
       "[<matplotlib.lines.Line2D at 0x1dbca4fb248>]"
      ]
     },
     "execution_count": 74,
     "metadata": {},
     "output_type": "execute_result"
    },
    {
     "data": {
      "image/png": "[encoded data removed]",
      "text/plain": [
       "<Figure size 432x288 with 1 Axes>"
      ]
     },
     "metadata": {
      "needs_background": "light"
     },
     "output_type": "display_data"
    }
   ],
   "source": [
    "plt.plot(xs, briers)"
   ]
  },
  {
   "cell_type": "markdown",
   "metadata": {},
   "source": [
    "Predictive Analytics for College Basketball: Using Logistic Regression for Determining the Outcome of a Game\n",
    "\n",
    "\n",
    "Bryce Brown"
   ]
  },
  {
   "cell_type": "code",
   "execution_count": 7,
   "metadata": {},
   "outputs": [
    {
     "name": "stdout",
     "output_type": "stream",
     "text": [
      "(8138, 40)\n",
      "0.6338166625706562\n"
     ]
    },
    {
     "name": "stderr",
     "output_type": "stream",
     "text": [
      "C:\\Users\\jacob\\anaconda3\\lib\\site-packages\\sklearn\\feature_selection\\_univariate_selection.py:115: RuntimeWarning: divide by zero encountered in true_divide\n",
      "  f = msb / msw\n",
      "C:\\Users\\jacob\\anaconda3\\lib\\site-packages\\sklearn\\linear_model\\_logistic.py:940: ConvergenceWarning: lbfgs failed to converge (status=1):\n",
      "STOP: TOTAL NO. of ITERATIONS REACHED LIMIT.\n",
      "\n",
      "Increase the number of iterations (max_iter) or scale the data as shown in:\n",
      "    https://scikit-learn.org/stable/modules/preprocessing.html\n",
      "Please also refer to the documentation for alternative solver options:\n",
      "    https://scikit-learn.org/stable/modules/linear_model.html#logistic-regression\n",
      "  extra_warning_msg=_LOGISTIC_SOLVER_CONVERGENCE_MSG)\n"
     ]
    },
    {
     "data": {
      "text/plain": [
       "0.45981813713443104"
      ]
     },
     "execution_count": 7,
     "metadata": {},
     "output_type": "execute_result"
    }
   ],
   "source": [
    "#find top 20 features\n",
    "X_dimred = SelectKBest(k=40).fit_transform(Xbig, y)\n",
    "print(X_dimred.shape)\n",
    "nlog = LogisticRegression().fit(X_dimred, y)\n",
    "print(nlog.score(X_dimred, y))\n",
    "\n",
    "nn = MLPClassifier((50, 50, 50, 50)).fit(X_dimred, y)\n",
    "nn.score(X_dimred, y)"
   ]
  }
 ],
 "metadata": {
  "kernelspec": {
   "display_name": "Python 3",
   "language": "python",
   "name": "python3"
  },
  "language_info": {
   "codemirror_mode": {
    "name": "ipython",
    "version": 3
   },
   "file_extension": ".py",
   "mimetype": "text/x-python",
   "name": "python",
   "nbconvert_exporter": "python",
   "pygments_lexer": "ipython3",
   "version": "3.7.6"
  }
 },
 "nbformat": 4,
 "nbformat_minor": 4
}
